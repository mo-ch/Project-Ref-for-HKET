{
  "nbformat": 4,
  "nbformat_minor": 0,
  "metadata": {
    "colab": {
      "provenance": [],
      "gpuType": "T4"
    },
    "kernelspec": {
      "name": "python3",
      "display_name": "Python 3"
    },
    "language_info": {
      "name": "python"
    },
    "accelerator": "GPU"
  },
  "cells": [
    {
      "cell_type": "code",
      "execution_count": null,
      "metadata": {
        "id": "6cY0yMhrzYVX"
      },
      "outputs": [],
      "source": [
        "import torch\n",
        "import torch.nn as nn\n",
        "import numpy as np\n",
        "from torchvision.models.feature_extraction import create_feature_extractor"
      ]
    },
    {
      "cell_type": "code",
      "source": [
        "from google.colab import drive\n",
        "drive.mount('/content/drive')"
      ],
      "metadata": {
        "colab": {
          "base_uri": "https://localhost:8080/"
        },
        "id": "13tqc69J3-x_",
        "outputId": "091adfec-cde0-4925-b3c3-ffb86ef062a3"
      },
      "execution_count": null,
      "outputs": [
        {
          "output_type": "stream",
          "name": "stdout",
          "text": [
            "Drive already mounted at /content/drive; to attempt to forcibly remount, call drive.mount(\"/content/drive\", force_remount=True).\n"
          ]
        }
      ]
    },
    {
      "cell_type": "code",
      "source": [
        "cd /content/drive/MyDrive"
      ],
      "metadata": {
        "colab": {
          "base_uri": "https://localhost:8080/"
        },
        "id": "1gEjZZvC4Cqc",
        "outputId": "2e0bd650-596a-4734-c589-2f52faa802db"
      },
      "execution_count": null,
      "outputs": [
        {
          "output_type": "stream",
          "name": "stdout",
          "text": [
            "/content/drive/MyDrive\n"
          ]
        }
      ]
    },
    {
      "cell_type": "code",
      "source": [
        "device = (\n",
        "    \"cuda\"\n",
        "    if torch.cuda.is_available()\n",
        "    else \"mps\"\n",
        "    if torch.backends.mps.is_available()\n",
        "    else \"cpu\"\n",
        ")\n",
        "print(f\"Using {device} device\")"
      ],
      "metadata": {
        "colab": {
          "base_uri": "https://localhost:8080/"
        },
        "id": "y0MfgbfKU3FU",
        "outputId": "b2d19c9b-6ad9-4a72-969d-5b8f905af1bb"
      },
      "execution_count": null,
      "outputs": [
        {
          "output_type": "stream",
          "name": "stdout",
          "text": [
            "Using cuda device\n"
          ]
        }
      ]
    },
    {
      "cell_type": "code",
      "source": [
        "def load_feature():\n",
        "  img_feature = np.load(\"/content/drive/MyDrive/BiT/feature.npy\")\n",
        "  img_feature = torch.from_numpy(img_feature)\n",
        "  return img_feature.to(device)\n",
        "\n",
        "def load_label():\n",
        "  img_label = np.load(\"/content/drive/MyDrive/BiT/label.npy\")\n",
        "  img_label = torch.from_numpy(img_label)\n",
        "  return img_label\n",
        "\n",
        "class tensordot(nn.Module):\n",
        "  def __init__(self, img_feature):\n",
        "    super().__init__()\n",
        "    self.img_feature = img_feature\n",
        "\n",
        "  def forward(self, num_vid):\n",
        "    self.num_vid = torch.transpose(num_vid, 0, 1)\n",
        "    return torch.tensordot(self.img_feature, self.num_vid, dims=1)\n",
        "\n",
        "class video2vec(nn.Module):\n",
        "    def __init__(self, num_vid, dim, img_feature, ipv_label):\n",
        "      super().__init__()\n",
        "      self.dim = dim\n",
        "      self.num_vid = num_vid\n",
        "      self.img_feature = img_feature\n",
        "      self.ipv_label = ipv_label\n",
        "      self.ipv_label = self.ipv_label.to(torch.int)\n",
        "\n",
        "      self.emb = nn.Embedding(self.num_vid, self.dim)\n",
        "      nn.init.constant_(self.emb.weight, 0.0)\n",
        "      nn.init.calculate_gain(\"relu\")\n",
        "      self.dot = tensordot(self.img_feature)\n",
        "\n",
        "    def forward(self, input):\n",
        "      vector = self.emb(input)\n",
        "      vector = torch.index_select(vector, 0, self.ipv_label)\n",
        "      inn_prod = self.dot(vector)\n",
        "      inn_prod = nn.functional.normalize(inn_prod, dim = 0)\n",
        "      return inn_prod, vector"
      ],
      "metadata": {
        "id": "KwiRrx24ziWv"
      },
      "execution_count": null,
      "outputs": []
    },
    {
      "cell_type": "code",
      "source": [
        "feature = load_feature()"
      ],
      "metadata": {
        "id": "LYJuhHzhkelv"
      },
      "execution_count": null,
      "outputs": []
    },
    {
      "cell_type": "code",
      "source": [
        "ipv =  torch.tensor([5, 6, 8, 3, 4, 4, 6, 7, 2, 3, 3, 3, 7, 6, 9, 5, 3, 2, 6, 4, 8, 9, 6, 2,\n",
        "        7])\n",
        "#split images to groups"
      ],
      "metadata": {
        "id": "9ODFayf7gyCJ"
      },
      "execution_count": null,
      "outputs": []
    },
    {
      "cell_type": "code",
      "source": [
        "num_img = feature.shape[0]\n",
        "dim = feature.shape[1]\n",
        "num_vid = ipv.shape[0]\n",
        "ipv_label = torch.empty(torch.sum(ipv))\n",
        "for i in range(num_vid):\n",
        "  ipv_label[torch.sum(ipv[:i]):torch.sum(ipv[:i+1])] = torch.full((ipv[i], ), i)\n",
        "ipv_label = ipv_label.to(device)\n",
        "input = torch.arange(num_vid).to(device)\n",
        "target = torch.arange(num_img).to(device)"
      ],
      "metadata": {
        "id": "_1lDOuv8qEtB"
      },
      "execution_count": null,
      "outputs": []
    },
    {
      "cell_type": "code",
      "source": [
        "model = video2vec(num_vid, dim, feature, ipv_label).to(device)"
      ],
      "metadata": {
        "id": "r0fpI8rmkR_-"
      },
      "execution_count": null,
      "outputs": []
    },
    {
      "cell_type": "code",
      "source": [
        "soft = nn.Softmax(dim = 0)"
      ],
      "metadata": {
        "id": "DNQU5WJSyapa"
      },
      "execution_count": null,
      "outputs": []
    },
    {
      "cell_type": "code",
      "source": [
        "torch.set_printoptions(edgeitems = 30)"
      ],
      "metadata": {
        "id": "Lqe2EMkyKmnB"
      },
      "execution_count": null,
      "outputs": []
    },
    {
      "cell_type": "code",
      "source": [
        "criterion1 = nn.CrossEntropyLoss()\n",
        "optimizer = torch.optim.SGD(model.parameters(), lr=0.1, momentum=0.9)\n",
        "\n",
        "def ce_loss(pred, target):\n",
        "    return criterion1(pred, target)\n",
        "\n",
        "def train(input, target):\n",
        "    model.train()\n",
        "    optimizer.zero_grad()\n",
        "    inn_prod, vector = model(input)\n",
        "    loss = ce_loss(inn_prod, target)\n",
        "    loss.backward()\n",
        "    optimizer.step()\n",
        "    return loss\n",
        "\n",
        "epochs = 1000\n",
        "\n",
        "for epoch in range(epochs):\n",
        "    train_loss = 0\n",
        "    loss = train(input, target)\n",
        "    train_loss = loss.item()\n",
        "    if epoch % 10 == 9 or epoch == epochs - 1:\n",
        "        print('epoch: {}, loss: {:.3}'.format(\n",
        "            epoch + 1,\n",
        "            train_loss,\n",
        "        ))"
      ],
      "metadata": {
        "id": "CGNMay6MnmSP",
        "colab": {
          "base_uri": "https://localhost:8080/"
        },
        "outputId": "e1150f31-6db5-4cfe-b025-0f4aa456d086"
      },
      "execution_count": null,
      "outputs": [
        {
          "output_type": "stream",
          "name": "stdout",
          "text": [
            "epoch: 10, loss: 4.6\n",
            "epoch: 20, loss: 4.6\n",
            "epoch: 30, loss: 4.6\n",
            "epoch: 40, loss: 4.6\n",
            "epoch: 50, loss: 4.6\n",
            "epoch: 60, loss: 4.6\n",
            "epoch: 70, loss: 4.6\n",
            "epoch: 80, loss: 4.6\n",
            "epoch: 90, loss: 4.6\n",
            "epoch: 100, loss: 4.6\n",
            "epoch: 110, loss: 4.6\n",
            "epoch: 120, loss: 4.6\n",
            "epoch: 130, loss: 4.6\n",
            "epoch: 140, loss: 4.6\n",
            "epoch: 150, loss: 4.6\n",
            "epoch: 160, loss: 4.6\n",
            "epoch: 170, loss: 4.6\n",
            "epoch: 180, loss: 4.6\n",
            "epoch: 190, loss: 4.6\n",
            "epoch: 200, loss: 4.6\n",
            "epoch: 210, loss: 4.6\n",
            "epoch: 220, loss: 4.6\n",
            "epoch: 230, loss: 4.6\n",
            "epoch: 240, loss: 4.6\n",
            "epoch: 250, loss: 4.6\n",
            "epoch: 260, loss: 4.6\n",
            "epoch: 270, loss: 4.6\n",
            "epoch: 280, loss: 4.6\n",
            "epoch: 290, loss: 4.6\n",
            "epoch: 300, loss: 4.6\n",
            "epoch: 310, loss: 4.6\n",
            "epoch: 320, loss: 4.6\n",
            "epoch: 330, loss: 4.6\n",
            "epoch: 340, loss: 4.6\n",
            "epoch: 350, loss: 4.6\n",
            "epoch: 360, loss: 4.6\n",
            "epoch: 370, loss: 4.6\n",
            "epoch: 380, loss: 4.6\n",
            "epoch: 390, loss: 4.6\n",
            "epoch: 400, loss: 4.6\n",
            "epoch: 410, loss: 4.6\n",
            "epoch: 420, loss: 4.6\n",
            "epoch: 430, loss: 4.6\n",
            "epoch: 440, loss: 4.6\n",
            "epoch: 450, loss: 4.6\n",
            "epoch: 460, loss: 4.6\n",
            "epoch: 470, loss: 4.6\n",
            "epoch: 480, loss: 4.6\n",
            "epoch: 490, loss: 4.6\n",
            "epoch: 500, loss: 4.6\n",
            "epoch: 510, loss: 4.6\n",
            "epoch: 520, loss: 4.6\n",
            "epoch: 530, loss: 4.6\n",
            "epoch: 540, loss: 4.6\n",
            "epoch: 550, loss: 4.6\n",
            "epoch: 560, loss: 4.6\n",
            "epoch: 570, loss: 4.6\n",
            "epoch: 580, loss: 4.6\n",
            "epoch: 590, loss: 4.6\n",
            "epoch: 600, loss: 4.6\n",
            "epoch: 610, loss: 4.6\n",
            "epoch: 620, loss: 4.6\n",
            "epoch: 630, loss: 4.6\n",
            "epoch: 640, loss: 4.6\n",
            "epoch: 650, loss: 4.6\n",
            "epoch: 660, loss: 4.6\n",
            "epoch: 670, loss: 4.6\n",
            "epoch: 680, loss: 4.6\n",
            "epoch: 690, loss: 4.6\n",
            "epoch: 700, loss: 4.6\n",
            "epoch: 710, loss: 4.6\n",
            "epoch: 720, loss: 4.6\n",
            "epoch: 730, loss: 4.6\n",
            "epoch: 740, loss: 4.6\n",
            "epoch: 750, loss: 4.6\n",
            "epoch: 760, loss: 4.6\n",
            "epoch: 770, loss: 4.6\n",
            "epoch: 780, loss: 4.6\n",
            "epoch: 790, loss: 4.6\n",
            "epoch: 800, loss: 4.6\n",
            "epoch: 810, loss: 4.6\n",
            "epoch: 820, loss: 4.6\n",
            "epoch: 830, loss: 4.6\n",
            "epoch: 840, loss: 4.6\n",
            "epoch: 850, loss: 4.6\n",
            "epoch: 860, loss: 4.6\n",
            "epoch: 870, loss: 4.6\n",
            "epoch: 880, loss: 4.6\n",
            "epoch: 890, loss: 4.6\n",
            "epoch: 900, loss: 4.6\n",
            "epoch: 910, loss: 4.6\n",
            "epoch: 920, loss: 4.6\n",
            "epoch: 930, loss: 4.6\n",
            "epoch: 940, loss: 4.6\n",
            "epoch: 950, loss: 4.6\n",
            "epoch: 960, loss: 4.6\n",
            "epoch: 970, loss: 4.6\n",
            "epoch: 980, loss: 4.6\n",
            "epoch: 990, loss: 4.6\n",
            "epoch: 1000, loss: 4.6\n"
          ]
        }
      ]
    },
    {
      "cell_type": "code",
      "source": [
        "extractor = create_feature_extractor(model, {\"emb\": \"feature\"})\n",
        "weight = extractor(input)\n",
        "print(weight[\"feature\"].shape)\n",
        "temp_weight = torch.unsqueeze(weight[\"feature\"], 1)"
      ],
      "metadata": {
        "id": "rQ0DFR_V3U0S",
        "colab": {
          "base_uri": "https://localhost:8080/"
        },
        "outputId": "3323dce8-650a-4ced-8f66-57c1ae8f2c39"
      },
      "execution_count": null,
      "outputs": [
        {
          "output_type": "stream",
          "name": "stdout",
          "text": [
            "torch.Size([25, 2048])\n"
          ]
        }
      ]
    },
    {
      "cell_type": "code",
      "source": [
        "lab = load_label()"
      ],
      "metadata": {
        "id": "9ql2sQtg6MbQ"
      },
      "execution_count": null,
      "outputs": []
    },
    {
      "cell_type": "code",
      "source": [
        "temp_feature = torch.unsqueeze(feature, 1)"
      ],
      "metadata": {
        "id": "rRkc5ghPvYX0"
      },
      "execution_count": null,
      "outputs": []
    },
    {
      "cell_type": "code",
      "source": [
        "cos = nn.CosineSimilarity()"
      ],
      "metadata": {
        "id": "2zU22I2yYVHs"
      },
      "execution_count": null,
      "outputs": []
    },
    {
      "cell_type": "code",
      "source": [
        "for i in range(25):\n",
        "  if(cos(temp_weight[0], temp_weight[i]) > 0.0):\n",
        "    print(torch.sum(ipv[:i]))\n",
        "    print(lab[torch.sum(ipv[:i]):torch.sum(ipv[:i+1])])\n",
        "    print(cos(temp_weight[0], temp_weight[i]))\n",
        "    print(\" \")"
      ],
      "metadata": {
        "colab": {
          "base_uri": "https://localhost:8080/"
        },
        "id": "rxlqOHRnppy9",
        "outputId": "89090d3c-6557-40c9-e38c-d831b476cf61"
      },
      "execution_count": null,
      "outputs": [
        {
          "output_type": "stream",
          "name": "stdout",
          "text": [
            "tensor(0)\n",
            "tensor([10, 83, 51, 26,  7])\n",
            "tensor([1.], device='cuda:0', grad_fn=<SumBackward1>)\n",
            " \n",
            "tensor(11)\n",
            "tensor([79, 94, 54, 83, 88, 26, 70, 78])\n",
            "tensor([0.1062], device='cuda:0', grad_fn=<SumBackward1>)\n",
            " \n",
            "tensor(30)\n",
            "tensor([33, 43, 49, 43, 57, 71])\n",
            "tensor([0.0068], device='cuda:0', grad_fn=<SumBackward1>)\n",
            " \n",
            "tensor(43)\n",
            "tensor([23, 53])\n",
            "tensor([0.0107], device='cuda:0', grad_fn=<SumBackward1>)\n",
            " \n",
            "tensor(81)\n",
            "tensor([36, 46, 55])\n",
            "tensor([0.0058], device='cuda:0', grad_fn=<SumBackward1>)\n",
            " \n",
            "tensor(84)\n",
            "tensor([84, 48])\n",
            "tensor([0.0516], device='cuda:0', grad_fn=<SumBackward1>)\n",
            " \n",
            "tensor(86)\n",
            "tensor([98, 37, 46,  1, 38, 90])\n",
            "tensor([0.0231], device='cuda:0', grad_fn=<SumBackward1>)\n",
            " \n",
            "tensor(104)\n",
            "tensor([26,  0, 48, 63, 75,  3, 81, 10, 43])\n",
            "tensor([0.0348], device='cuda:0', grad_fn=<SumBackward1>)\n",
            " \n",
            "tensor(113)\n",
            "tensor([68, 88, 29, 87, 31, 69])\n",
            "tensor([0.1495], device='cuda:0', grad_fn=<SumBackward1>)\n",
            " \n",
            "tensor(119)\n",
            "tensor([68, 57])\n",
            "tensor([0.2027], device='cuda:0', grad_fn=<SumBackward1>)\n",
            " \n"
          ]
        }
      ]
    }
  ]
}